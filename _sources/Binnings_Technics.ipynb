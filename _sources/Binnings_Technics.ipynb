{
  "nbformat": 4,
  "nbformat_minor": 0,
  "metadata": {
    "colab": {
      "provenance": []
    },
    "kernelspec": {
      "name": "python3",
      "display_name": "Python 3"
    },
    "language_info": {
      "name": "python"
    }
  },
  "cells": [
    {
      "cell_type": "markdown",
      "source": [
        "# Binnings Technics"
      ],
      "metadata": {
        "id": "b5tRavQP_FGz"
      }
    },
    {
      "cell_type": "markdown",
      "source": [
        "✅ Apa Itu Diskritisasi?\n",
        "\n",
        "Diskritisasi (Discretization) adalah proses mengubah data numerik (kontinu) menjadi data kategori (diskrit).\n",
        "\n",
        "Contoh:\n",
        "\n",
        "| Nilai Asli (Numerik) | Kategori (Diskrit) |\n",
        "| -------------------- | ------------------ |\n",
        "| 3.2                  | Rendah             |\n",
        "| 6.7                  | Sedang             |\n",
        "| 8.9                  | Tinggi             |\n",
        "\n",
        "Tujuan Diskritisasi\n",
        "\n",
        "1. Meningkatkan performa model (terutama yang lebih baik menangani kategori seperti Naive Bayes Multinomial).\n",
        "\n",
        "2. Menyederhanakan representasi data.\n",
        "\n",
        "3. Mengurangi noise dari data numerik.\n",
        "\n",
        "4. Membuat data lebih mudah dipahami manusia (interpretabilitas).\n",
        "\n",
        "\n",
        "Kapan Diskritisasi Digunakan?\n",
        "\n",
        "1. Saat data input bertipe kontinu (misalnya: suhu, panjang, berat, dll.).\n",
        "\n",
        "2. Saat model atau metode hanya menerima fitur kategorik.\n",
        "\n",
        "3. Saat ingin mengurangi kompleksitas data.\n",
        "\n",
        "Metode Diskritisasi Umum\n",
        "1. Equal Width Binning (Interval Sama Lebar)\n",
        "Membagi rentang nilai menjadi beberapa interval dengan lebar yang sama.\n",
        "\n",
        "Contoh: Nilai 0–10 dibagi jadi 5 bin → [0-2), [2-4), [4-6), [6-8), [8-10)\n",
        "\n",
        "2. Equal Frequency Binning (Jumlah Data Sama)\n",
        "Setiap bin memiliki jumlah data (frekuensi) yang kurang lebih sama.\n",
        "\n",
        "Contoh: 100 data → dibagi 4 bin, masing-masing 25 data.\n",
        "\n",
        "3. K-Means Clustering\n",
        "Mengelompokkan nilai numerik ke dalam k cluster berdasarkan kemiripan, lalu memberi label kategorik berdasarkan cluster.\n",
        "\n",
        "Contoh: KMeans(n_clusters=3) menghasilkan 3 grup, misalnya Low, Medium, High.\n",
        "\n",
        "Kelebihan:\n",
        "\n",
        "Lebih fleksibel. Bisa menangkap struktur alami data.\n",
        "\n",
        "4. Entropi-Based / MDLP (Minimum Description Length Principle)\n",
        "Diskritisasi dengan mempertimbangkan label (supervised). Biasanya digunakan dalam algoritma Decision Tree untuk menemukan titik potong terbaik.\n"
      ],
      "metadata": {
        "id": "a7VPGz6i_dol"
      }
    },
    {
      "cell_type": "markdown",
      "source": [
        "# Implementasi dengan menggunakan data Iris"
      ],
      "metadata": {
        "id": "w0z9iBlqssHR"
      }
    },
    {
      "cell_type": "code",
      "execution_count": 8,
      "metadata": {
        "colab": {
          "base_uri": "https://localhost:8080/"
        },
        "id": "TW1jLJOAocBM",
        "outputId": "00bb5be2-5eec-4478-9bab-429da08fb530"
      },
      "outputs": [
        {
          "output_type": "stream",
          "name": "stdout",
          "text": [
            "Collecting pymysql\n",
            "  Downloading PyMySQL-1.1.1-py3-none-any.whl.metadata (4.4 kB)\n",
            "Downloading PyMySQL-1.1.1-py3-none-any.whl (44 kB)\n",
            "\u001b[?25l   \u001b[90m━━━━━━━━━━━━━━━━━━━━━━━━━━━━━━━━━━━━━━━━\u001b[0m \u001b[32m0.0/45.0 kB\u001b[0m \u001b[31m?\u001b[0m eta \u001b[36m-:--:--\u001b[0m\r\u001b[2K   \u001b[90m━━━━━━━━━━━━━━━━━━━━━━━━━━━━━━━━━━━━━━━━\u001b[0m \u001b[32m45.0/45.0 kB\u001b[0m \u001b[31m1.6 MB/s\u001b[0m eta \u001b[36m0:00:00\u001b[0m\n",
            "\u001b[?25hInstalling collected packages: pymysql\n",
            "Successfully installed pymysql-1.1.1\n",
            "Requirement already satisfied: psycopg2 in /usr/local/lib/python3.11/dist-packages (2.9.10)\n"
          ]
        }
      ],
      "source": [
        "%pip install pymysql\n",
        "%pip install psycopg2"
      ]
    },
    {
      "cell_type": "markdown",
      "source": [
        "# Library yang digunakan"
      ],
      "metadata": {
        "id": "Ys4rLg5hsw26"
      }
    },
    {
      "cell_type": "code",
      "source": [
        "from sklearn.cluster import KMeans\n",
        "from sklearn.preprocessing import StandardScaler\n",
        "from sklearn.metrics import adjusted_rand_score\n",
        "from sklearn.metrics import silhouette_score\n",
        "import psycopg2\n",
        "import pymysql\n",
        "import pandas as pd\n",
        "import matplotlib.pyplot as plt\n",
        "import seaborn as sns\n",
        "import numpy as np"
      ],
      "metadata": {
        "id": "8A7FEMDgpXTv"
      },
      "execution_count": 9,
      "outputs": []
    },
    {
      "cell_type": "markdown",
      "source": [
        "# Pengumpulan Data"
      ],
      "metadata": {
        "id": "6lFGUBEYs0Cs"
      }
    },
    {
      "cell_type": "code",
      "source": [
        "def get_pg_data():\n",
        "    conn = psycopg2.connect(\n",
        "        host=\"ndik-anugrahs15042004-79e6.d.aivencloud.com\",\n",
        "        user=\"avnadmin\",\n",
        "        password=\"AVNS_7FsJrvmsNJPSkv0qE-1\",\n",
        "        database=\"defaultdb\",\n",
        "        port=18856\n",
        "    )\n",
        "    cursor = conn.cursor()\n",
        "    cursor.execute(\"SELECT * FROM sepal\")\n",
        "    data = cursor.fetchall()\n",
        "    columns = [desc[0] for desc in cursor.description]  # Ambil nama kolom\n",
        "    cursor.close()\n",
        "    conn.close()\n",
        "\n",
        "    return pd.DataFrame(data, columns=columns)\n",
        "\n",
        "def get_mysql_data():\n",
        "    conn = pymysql.connect(\n",
        "        host=\"mulyono-anugrahs15042004-79e6.d.aivencloud.com\",\n",
        "        user=\"avnadmin\",\n",
        "        password=\"AVNS_UrgkI5rl3s3AFs4zUkw\",\n",
        "        database=\"iris\",\n",
        "        port=18856\n",
        "    )\n",
        "    cursor = conn.cursor()\n",
        "    cursor.execute(\"SELECT * FROM petal\")\n",
        "    data = cursor.fetchall()\n",
        "    columns = [desc[0] for desc in cursor.description]  # Ambil nama kolom\n",
        "    cursor.close()\n",
        "    conn.close()\n",
        "\n",
        "    return pd.DataFrame(data, columns=columns)\n",
        "\n",
        "# Ambil data dari kedua database\n",
        "df_postgresql = get_pg_data()\n",
        "df_mysql = get_mysql_data()\n",
        "\n",
        "# Gabungkan berdasarkan kolom 'id' dan 'Class'\n",
        "df_merged = pd.merge(df_mysql, df_postgresql, on=[\"id\", \"class\"], how=\"inner\")\n",
        "\n",
        "# Cetak semua data hasil gabungan tanpa indeks\n",
        "print(df_merged.to_string(index=False))"
      ],
      "metadata": {
        "colab": {
          "base_uri": "https://localhost:8080/"
        },
        "id": "4G9hDxSfqvvs",
        "outputId": "6d530bd3-7cea-4748-8dd1-b93c234f7c81"
      },
      "execution_count": 11,
      "outputs": [
        {
          "output_type": "stream",
          "name": "stdout",
          "text": [
            " id           class  petal_length  petal_width  sepal_length  sepal_width\n",
            "  1     Iris-setosa          15.6         32.4          20.3         25.7\n",
            "  2     Iris-setosa          14.0          2.0          40.9         30.0\n",
            "  3     Iris-setosa           1.3          0.2           4.7          3.2\n",
            "  4     Iris-setosa           1.5          0.2           4.6          3.1\n",
            "  5     Iris-setosa           1.4          0.2           5.0          3.6\n",
            "  6     Iris-setosa           1.7          0.4           5.4          3.9\n",
            "  7     Iris-setosa           1.4          0.3           4.6          3.4\n",
            "  8     Iris-setosa           1.5          0.2           5.0          3.4\n",
            "  9     Iris-setosa           1.4          0.2           4.4          2.9\n",
            " 10     Iris-setosa          24.2         13.4          33.2         24.1\n",
            " 11     Iris-setosa           1.5          0.2           5.4          3.7\n",
            " 12     Iris-setosa           1.6          0.2           4.8          3.4\n",
            " 13     Iris-setosa           1.4          0.1           4.8          3.0\n",
            " 14     Iris-setosa           1.1          0.1           4.3          3.0\n",
            " 15     Iris-setosa           1.2          0.2           5.8          4.0\n",
            " 16     Iris-setosa           1.5          0.4           5.7          4.4\n",
            " 17     Iris-setosa           1.3          0.4           5.4          3.9\n",
            " 18     Iris-setosa           1.4          0.3           5.1          3.5\n",
            " 19     Iris-setosa           1.7          0.3           5.7          3.8\n",
            " 20     Iris-setosa          21.3         13.1          11.4         15.0\n",
            " 21     Iris-setosa           1.7          0.2           5.4          3.4\n",
            " 22     Iris-setosa           1.5          0.4           5.1          3.7\n",
            " 23     Iris-setosa           1.0          0.2           4.6          3.6\n",
            " 24     Iris-setosa           1.7          0.5           5.1          3.3\n",
            " 25     Iris-setosa           1.9          0.2           4.8          3.4\n",
            " 26     Iris-setosa           1.6          0.2           5.0          3.0\n",
            " 27     Iris-setosa           1.6          0.4           5.0          3.4\n",
            " 28     Iris-setosa           1.5          0.2           5.2          3.5\n",
            " 29     Iris-setosa           1.4          0.2           5.2          3.4\n",
            " 30     Iris-setosa          48.3         26.7          43.6         14.3\n",
            " 31     Iris-setosa           1.6          0.2           4.8          3.1\n",
            " 32     Iris-setosa           1.5          0.4           5.4          3.4\n",
            " 33     Iris-setosa           1.5          0.1           5.2          4.1\n",
            " 34     Iris-setosa           1.4          0.2           5.5          4.2\n",
            " 35     Iris-setosa           1.5          0.1           4.9          3.1\n",
            " 36     Iris-setosa           1.2          0.2           5.0          3.2\n",
            " 37     Iris-setosa           1.3          0.2           5.5          3.5\n",
            " 38     Iris-setosa           1.5          0.1           4.9          3.1\n",
            " 39     Iris-setosa           1.3          0.2           4.4          3.0\n",
            " 40     Iris-setosa          55.8         23.0          33.0         22.7\n",
            " 41     Iris-setosa           1.3          0.3           5.0          3.5\n",
            " 42     Iris-setosa           1.3          0.3           4.5          2.3\n",
            " 43     Iris-setosa           1.3          0.2           4.4          3.2\n",
            " 44     Iris-setosa           1.6          0.6           5.0          3.5\n",
            " 45     Iris-setosa           1.9          0.4           5.1          3.8\n",
            " 46     Iris-setosa           1.4          0.3           4.8          3.0\n",
            " 47     Iris-setosa           1.6          0.2           5.1          3.8\n",
            " 48     Iris-setosa           1.4          0.2           4.6          3.2\n",
            " 49     Iris-setosa           1.5          0.2           5.3          3.7\n",
            " 50     Iris-setosa          43.0         25.0          21.4         20.0\n",
            " 51 Iris-versicolor           4.7          1.4           7.0          3.2\n",
            " 52 Iris-versicolor           4.5          1.5           6.4          3.2\n",
            " 53 Iris-versicolor           4.9          1.5           6.9          3.1\n",
            " 54 Iris-versicolor           4.0          1.3           5.5          2.3\n",
            " 55 Iris-versicolor           4.6          1.5           6.5          2.8\n",
            " 56 Iris-versicolor           4.5          1.3           5.7          2.8\n",
            " 57 Iris-versicolor           4.7          1.6           6.3          3.3\n",
            " 58 Iris-versicolor           3.3          1.0           4.9          2.4\n",
            " 59 Iris-versicolor           4.6          1.3           6.6          2.9\n",
            " 60 Iris-versicolor          27.0         44.0          44.0         32.9\n",
            " 61 Iris-versicolor           3.5          1.0           5.0          2.0\n",
            " 62 Iris-versicolor           4.2          1.5           5.9          3.0\n",
            " 63 Iris-versicolor           4.0          1.0           6.0          2.2\n",
            " 64 Iris-versicolor           4.7          1.4           6.1          2.9\n",
            " 65 Iris-versicolor           3.6          1.3           5.6          2.9\n",
            " 66 Iris-versicolor           4.4          1.4           6.7          3.1\n",
            " 67 Iris-versicolor           4.5          1.5           5.6          3.0\n",
            " 68 Iris-versicolor           4.1          1.0           5.8          2.7\n",
            " 69 Iris-versicolor           4.5          1.5           6.2          2.2\n",
            " 70 Iris-versicolor          20.5         40.0          26.7         35.0\n",
            " 71 Iris-versicolor           4.8          1.8           5.9          3.2\n",
            " 72 Iris-versicolor           4.0          1.3           6.1          2.8\n",
            " 73 Iris-versicolor           4.9          1.5           6.3          2.5\n",
            " 74 Iris-versicolor           4.7          1.2           6.1          2.8\n",
            " 75 Iris-versicolor           4.3          1.3           6.4          2.9\n",
            " 76 Iris-versicolor           4.4          1.4           6.6          3.0\n",
            " 77 Iris-versicolor           4.8          1.4           6.8          2.8\n",
            " 78 Iris-versicolor           5.0          1.7           6.7          3.0\n",
            " 79 Iris-versicolor           4.5          1.5           6.0          2.9\n",
            " 80 Iris-versicolor          32.0         54.0          22.0         16.9\n",
            " 81 Iris-versicolor           3.8          1.1           5.5          2.4\n",
            " 82 Iris-versicolor           3.7          1.0           5.5          2.4\n",
            " 83 Iris-versicolor           3.9          1.2           5.8          2.7\n",
            " 84 Iris-versicolor           5.1          1.6           6.0          2.7\n",
            " 85 Iris-versicolor           4.5          1.5           5.4          3.0\n",
            " 86 Iris-versicolor           4.5          1.6           6.0          3.4\n",
            " 87 Iris-versicolor           4.7          1.5           6.7          3.1\n",
            " 88 Iris-versicolor           4.4          1.3           6.3          2.3\n",
            " 89 Iris-versicolor           4.1          1.3           5.6          3.0\n",
            " 90 Iris-versicolor          41.0         62.2          44.0         22.7\n",
            " 91 Iris-versicolor           4.4          1.2           5.5          2.6\n",
            " 92 Iris-versicolor           4.6          1.4           6.1          3.0\n",
            " 93 Iris-versicolor           4.0          1.2           5.8          2.6\n",
            " 94 Iris-versicolor           3.3          1.0           5.0          2.3\n",
            " 95 Iris-versicolor           4.2          1.3           5.6          2.7\n",
            " 96 Iris-versicolor           4.2          1.2           5.7          3.0\n",
            " 97 Iris-versicolor           4.2          1.3           5.7          2.9\n",
            " 98 Iris-versicolor           4.3          1.3           6.2          2.9\n",
            " 99 Iris-versicolor           3.0          1.1           5.1          2.5\n",
            "100 Iris-versicolor          43.0         27.6          44.7         33.6\n",
            "101  Iris-virginica           6.0          2.5           6.3          3.3\n",
            "102  Iris-virginica           5.1          1.9           5.8          2.7\n",
            "103  Iris-virginica           5.9          2.1           7.1          3.0\n",
            "104  Iris-virginica           5.6          1.8           6.3          2.9\n",
            "105  Iris-virginica           5.8          2.2           6.5          3.0\n",
            "106  Iris-virginica           6.6          2.1           7.6          3.0\n",
            "107  Iris-virginica           4.5          1.7           4.9          2.5\n",
            "108  Iris-virginica           6.3          1.8           7.3          2.9\n",
            "109  Iris-virginica           5.8          1.8           6.7          2.5\n",
            "110  Iris-virginica           6.1          2.5           7.2          3.6\n",
            "111  Iris-virginica           5.1          2.0           6.5          3.2\n",
            "112  Iris-virginica           5.3          1.9           6.4          2.7\n",
            "113  Iris-virginica           5.5          2.1           6.8          3.0\n",
            "114  Iris-virginica           5.0          2.0           5.7          2.5\n",
            "115  Iris-virginica           5.1          2.4           5.8          2.8\n",
            "116  Iris-virginica           5.3          2.3           6.4          3.2\n",
            "117  Iris-virginica           5.5          1.8           6.5          3.0\n",
            "118  Iris-virginica           6.7          2.2           7.7          3.8\n",
            "119  Iris-virginica           6.9          2.3           7.7          2.6\n",
            "120  Iris-virginica           5.0          1.5           6.0          2.2\n",
            "121  Iris-virginica           5.7          2.3           6.9          3.2\n",
            "122  Iris-virginica           4.9          2.0           5.6          2.8\n",
            "123  Iris-virginica           6.7          2.0           7.7          2.8\n",
            "124  Iris-virginica           4.9          1.8           6.3          2.7\n",
            "125  Iris-virginica           5.7          2.1           6.7          3.3\n",
            "126  Iris-virginica           6.0          1.8           7.2          3.2\n",
            "127  Iris-virginica           4.8          1.8           6.2          2.8\n",
            "128  Iris-virginica           4.9          1.8           6.1          3.0\n",
            "129  Iris-virginica           5.6          2.1           6.4          2.8\n",
            "130  Iris-virginica           5.8          1.6           7.2          3.0\n",
            "131  Iris-virginica           6.1          1.9           7.4          2.8\n",
            "132  Iris-virginica           6.4          2.0           7.9          3.8\n",
            "133  Iris-virginica           5.6          2.2           6.4          2.8\n",
            "134  Iris-virginica           5.1          1.5           6.3          2.8\n",
            "135  Iris-virginica           5.6          1.4           6.1          2.6\n",
            "136  Iris-virginica           6.1          2.3           7.7          3.0\n",
            "137  Iris-virginica           5.6          2.4           6.3          3.4\n",
            "138  Iris-virginica           5.5          1.8           6.4          3.1\n",
            "139  Iris-virginica           4.8          1.8           6.0          3.0\n",
            "140  Iris-virginica           5.4          2.1           6.9          3.1\n",
            "141  Iris-virginica           5.6          2.4           6.7          3.1\n",
            "142  Iris-virginica           5.1          2.3           6.9          3.1\n",
            "143  Iris-virginica           5.1          1.9           5.8          2.7\n",
            "144  Iris-virginica           5.9          2.3           6.8          3.2\n",
            "145  Iris-virginica           5.7          2.5           6.7          3.3\n",
            "146  Iris-virginica           5.2          2.3           6.7          3.0\n",
            "147  Iris-virginica           5.0          1.9           6.3          2.5\n",
            "148  Iris-virginica           5.2          2.0           6.5          3.0\n",
            "149  Iris-virginica           5.4          2.3           6.2          3.4\n",
            "150  Iris-virginica           5.1          1.8           5.9          3.0\n"
          ]
        }
      ]
    },
    {
      "cell_type": "markdown",
      "source": [
        "# Data Iris menggunakan K-Means dengan jumlah cluster 2,3 dan 4"
      ],
      "metadata": {
        "id": "w7Pcpm1e84RI"
      }
    },
    {
      "cell_type": "code",
      "source": [
        "# 1. Siapkan fitur (X) dan label (y)\n",
        "feature_cols = ['sepal_length', 'sepal_width', 'petal_length', 'petal_width']\n",
        "X = df_merged[feature_cols].values\n",
        "y = df_merged['class'].astype('category').cat.codes.values  # label dikodekan ke angka\n",
        "\n",
        "# 2. Standarisasi\n",
        "scaler = StandardScaler()\n",
        "X_scaled = scaler.fit_transform(X)\n",
        "\n",
        "# 3. Fungsi clustering\n",
        "def perform_kmeans(X_scaled, y, k):\n",
        "    kmeans = KMeans(n_clusters=k, random_state=42)\n",
        "    labels = kmeans.fit_predict(X_scaled)\n",
        "    centroids = kmeans.cluster_centers_\n",
        "    accuracy = adjusted_rand_score(y, labels)\n",
        "\n",
        "    print(f\"\\nHasil K-Means dengan {k} Klaster:\")\n",
        "    print(f\"Centroids:\\n{centroids}\")\n",
        "    print(f\"Akurasi (Adjusted Rand Score): {accuracy:.3f}\")\n",
        "\n",
        "    return labels, centroids, accuracy\n",
        "\n",
        "# 4. Jalankan clustering\n",
        "for k in [2, 3, 4]:\n",
        "    perform_kmeans(X_scaled, y, k)"
      ],
      "metadata": {
        "colab": {
          "base_uri": "https://localhost:8080/"
        },
        "id": "jbTSEEmT1Wt2",
        "outputId": "eabdee7c-ac30-4c86-d4a2-abb5d9437e7f"
      },
      "execution_count": 12,
      "outputs": [
        {
          "output_type": "stream",
          "name": "stdout",
          "text": [
            "\n",
            "Hasil K-Means dengan 2 Klaster:\n",
            "Centroids:\n",
            "[[-0.26342958 -0.26471231 -0.24581264 -0.24282931]\n",
            " [ 3.32879194  3.34500102  3.10617787  3.06847946]]\n",
            "Akurasi (Adjusted Rand Score): 0.004\n",
            "\n",
            "Hasil K-Means dengan 3 Klaster:\n",
            "Centroids:\n",
            "[[-0.26849937 -0.27873375 -0.2602409  -0.25208248]\n",
            " [ 4.33793787  3.34114419  4.24447237  3.59532423]\n",
            " [ 2.19474628  3.10850515  2.09869743  2.40153738]]\n",
            "Akurasi (Adjusted Rand Score): 0.004\n",
            "\n",
            "Hasil K-Means dengan 4 Klaster:\n",
            "Centroids:\n",
            "[[-0.26849937 -0.27873375 -0.2602409  -0.25208248]\n",
            " [ 4.26940771  3.44475947  4.30257957  2.90347049]\n",
            " [ 2.26153802  3.29654338  1.95240206  1.88965605]\n",
            " [ 3.20302716  2.45347939  3.49425659  5.91778228]]\n",
            "Akurasi (Adjusted Rand Score): 0.004\n"
          ]
        }
      ]
    },
    {
      "cell_type": "markdown",
      "source": [
        "# Klasifikasi Setelah Diskritisasi (KMeans Cluster sebagai Fitur)"
      ],
      "metadata": {
        "id": "I0Iwc5cy9pAa"
      }
    },
    {
      "cell_type": "code",
      "source": [
        "from sklearn.naive_bayes import GaussianNB\n",
        "from sklearn.tree import DecisionTreeClassifier\n",
        "from sklearn.model_selection import train_test_split\n",
        "from sklearn.metrics import classification_report\n",
        "\n",
        "# Split data\n",
        "X = df_merged.drop(\"class\", axis=1)\n",
        "y = df_merged[\"class\"]\n",
        "X_train, X_test, y_train, y_test = train_test_split(X, y, test_size=0.3, random_state=42)\n",
        "\n",
        "# Naive Bayes\n",
        "nb = GaussianNB()\n",
        "nb.fit(X_train, y_train)\n",
        "y_pred_nb = nb.predict(X_test)\n",
        "\n",
        "# Decision Tree\n",
        "dt = DecisionTreeClassifier(random_state=42)\n",
        "dt.fit(X_train, y_train)\n",
        "y_pred_dt = dt.predict(X_test)\n",
        "\n",
        "# Evaluasi\n",
        "print(\"GaussianNB (sebelum diskritisasi):\")\n",
        "print(classification_report(y_test, y_pred_nb))\n",
        "\n",
        "print(\"Decision Tree (sebelum diskritisasi):\")\n",
        "print(classification_report(y_test, y_pred_dt))\n"
      ],
      "metadata": {
        "colab": {
          "base_uri": "https://localhost:8080/"
        },
        "id": "iTllHTH42Unu",
        "outputId": "70360da6-4572-4a61-f3d3-e1a046473dc9"
      },
      "execution_count": 13,
      "outputs": [
        {
          "output_type": "stream",
          "name": "stdout",
          "text": [
            "GaussianNB (sebelum diskritisasi):\n",
            "                 precision    recall  f1-score   support\n",
            "\n",
            "    Iris-setosa       0.95      1.00      0.97        19\n",
            "Iris-versicolor       1.00      0.38      0.56        13\n",
            " Iris-virginica       0.65      1.00      0.79        13\n",
            "\n",
            "       accuracy                           0.82        45\n",
            "      macro avg       0.87      0.79      0.77        45\n",
            "   weighted avg       0.88      0.82      0.80        45\n",
            "\n",
            "Decision Tree (sebelum diskritisasi):\n",
            "                 precision    recall  f1-score   support\n",
            "\n",
            "    Iris-setosa       1.00      1.00      1.00        19\n",
            "Iris-versicolor       1.00      1.00      1.00        13\n",
            " Iris-virginica       1.00      1.00      1.00        13\n",
            "\n",
            "       accuracy                           1.00        45\n",
            "      macro avg       1.00      1.00      1.00        45\n",
            "   weighted avg       1.00      1.00      1.00        45\n",
            "\n"
          ]
        }
      ]
    },
    {
      "cell_type": "markdown",
      "source": [
        "# Pohon keputusan yang belum di deskritisasi"
      ],
      "metadata": {
        "id": "d6YAXeXYuj5p"
      }
    },
    {
      "cell_type": "code",
      "source": [
        "import pandas as pd\n",
        "import matplotlib.pyplot as plt\n",
        "import numpy as np\n",
        "from sklearn.tree import DecisionTreeClassifier, plot_tree, export_text\n",
        "from sklearn.preprocessing import LabelEncoder\n",
        "\n",
        "# === Data Buah Cucumis ===\n",
        "data = {\n",
        "    \"Panjang Buah (cm)\": [25, 28, 30, 27, 29, 20, 22, 21, 19, 23, 15, 14, 16, 15, 17],\n",
        "    \"Diameter Buah (cm)\": [15, 16, 17, 14, 16, 5, 6, 5.5, 4.5, 6, 8, 7.5, 8.5, 8, 9],\n",
        "    \"Kelas\": [\n",
        "        \"Cucumis melo\", \"Cucumis melo\", \"Cucumis melo\", \"Cucumis melo\", \"Cucumis melo\",\n",
        "        \"Cucumis sativus\", \"Cucumis sativus\", \"Cucumis sativus\", \"Cucumis sativus\", \"Cucumis sativus\",\n",
        "        \"Cucumis anguria\", \"Cucumis anguria\", \"Cucumis anguria\", \"Cucumis anguria\", \"Cucumis anguria\"\n",
        "    ]\n",
        "}\n",
        "df = pd.DataFrame(data)\n",
        "\n",
        "# === Label Encoding ===\n",
        "le = LabelEncoder()\n",
        "df['Label'] = le.fit_transform(df['Kelas'])  # anguria=0, melo=1, sativus=2 (urutan tergantung sklearn)\n",
        "\n",
        "# === Fitur dan Target ===\n",
        "X = df[[\"Panjang Buah (cm)\", \"Diameter Buah (cm)\"]]\n",
        "y = df[\"Label\"]  # gunakan label numerik hasil encoding\n",
        "\n",
        "# === Train Decision Tree ===\n",
        "clf = DecisionTreeClassifier(criterion=\"gini\", max_depth=3, random_state=42)\n",
        "clf.fit(X, y)\n",
        "\n",
        "# === 1. Tampilkan Pohon Keputusan ===\n",
        "print(\"\\n=== Pohon Keputusan (Decision Tree) ===\")\n",
        "tree_rules = export_text(clf, feature_names=list(X.columns))\n",
        "print(tree_rules)"
      ],
      "metadata": {
        "colab": {
          "base_uri": "https://localhost:8080/"
        },
        "id": "MXDdhNxAum0t",
        "outputId": "c6ecb886-c495-4524-a318-26a8256ba0a2"
      },
      "execution_count": 19,
      "outputs": [
        {
          "output_type": "stream",
          "name": "stdout",
          "text": [
            "\n",
            "=== Pohon Keputusan (Decision Tree) ===\n",
            "|--- Panjang Buah (cm) <= 18.00\n",
            "|   |--- class: 0\n",
            "|--- Panjang Buah (cm) >  18.00\n",
            "|   |--- Diameter Buah (cm) <= 10.00\n",
            "|   |   |--- class: 2\n",
            "|   |--- Diameter Buah (cm) >  10.00\n",
            "|   |   |--- class: 1\n",
            "\n"
          ]
        }
      ]
    },
    {
      "cell_type": "markdown",
      "source": [
        "# Visualisasi Splitting"
      ],
      "metadata": {
        "id": "ay5mM4TcvDGL"
      }
    },
    {
      "cell_type": "code",
      "source": [
        "# === Uji 2 Data Baru ===\n",
        "uji_baru = pd.DataFrame({\n",
        "    'Panjang Buah (cm)': [18, 26],\n",
        "    'Diameter Buah (cm)': [6, 15]\n",
        "})\n",
        "\n",
        "prediksi = clf.predict(uji_baru)\n",
        "hasil = le.inverse_transform(prediksi)\n",
        "\n",
        "print(\"\\n=== Prediksi 2 Data Baru ===\")\n",
        "for i, (p, d) in enumerate(zip(uji_baru['Panjang Buah (cm)'], uji_baru['Diameter Buah (cm)'])):\n",
        "    print(f\"Data {i+1}: Panjang={p}, Diameter={d} → Prediksi: {hasil[i]}\")\n",
        "\n",
        "# === Visualisasi Decision Boundary dengan Garis Split ===\n",
        "print(\"\\n=== Visualisasi Decision Boundary ===\")\n",
        "plot_colors = [\"r\", \"y\", \"g\"]\n",
        "plot_step = 0.2\n",
        "\n",
        "x_min, x_max = X['Panjang Buah (cm)'].min() - 2, X['Panjang Buah (cm)'].max() + 2\n",
        "y_min, y_max = X['Diameter Buah (cm)'].min() - 1, X['Diameter Buah (cm)'].max() + 1\n",
        "\n",
        "xx, yy = np.meshgrid(np.arange(x_min, x_max, plot_step),\n",
        "                     np.arange(y_min, y_max, plot_step))\n",
        "\n",
        "grid = np.c_[xx.ravel(), yy.ravel()]\n",
        "grid_df = pd.DataFrame(grid, columns=['Panjang Buah (cm)', 'Diameter Buah (cm)'])\n",
        "Z = clf.predict(grid_df)\n",
        "Z = Z.reshape(xx.shape)\n",
        "\n",
        "plt.figure(figsize=(8, 6))\n",
        "\n",
        "# Area warna background untuk masing-masing kelas\n",
        "plt.contourf(xx, yy, Z, cmap=plt.cm.RdYlBu, alpha=0.6)\n",
        "\n",
        "# Garis pemisah antar kelas (split boundary)\n",
        "plt.contour(xx, yy, Z, levels=np.unique(Z), linewidths=1.5, colors='k')\n",
        "\n",
        "# Plot titik data training\n",
        "for label, color in zip(np.unique(y), plot_colors):\n",
        "    idx = np.where(y == label)\n",
        "    plt.scatter(X.iloc[idx]['Panjang Buah (cm)'], X.iloc[idx]['Diameter Buah (cm)'],\n",
        "                c=color, edgecolor='k', label=le.inverse_transform([label])[0])\n",
        "\n",
        "plt.xlabel(\"Panjang Buah (cm)\")\n",
        "plt.ylabel(\"Diameter Buah (cm)\")\n",
        "plt.title(\"Decision Boundary (Panjang vs Diameter Buah)\")\n",
        "plt.legend()\n",
        "plt.grid(True)\n",
        "plt.tight_layout()\n",
        "plt.show()"
      ],
      "metadata": {
        "colab": {
          "base_uri": "https://localhost:8080/",
          "height": 711
        },
        "id": "IV1ST0gMvF34",
        "outputId": "9a263ed6-5c95-474e-e19e-1664fb40148a"
      },
      "execution_count": 16,
      "outputs": [
        {
          "output_type": "stream",
          "name": "stdout",
          "text": [
            "\n",
            "=== Prediksi 2 Data Baru ===\n",
            "Data 1: Panjang=18, Diameter=6 → Prediksi: Cucumis anguria\n",
            "Data 2: Panjang=26, Diameter=15 → Prediksi: Cucumis melo\n",
            "\n",
            "=== Visualisasi Decision Boundary ===\n"
          ]
        },
        {
          "output_type": "display_data",
          "data": {
            "text/plain": [
              "<Figure size 800x600 with 1 Axes>"
            ],
            "image/png": "[encoded data removed]"
          },
          "metadata": {}
        }
      ]
    },
    {
      "cell_type": "markdown",
      "source": [
        "# Pohon Keputusan (Setelah Diskritisasi dengan KMeans)"
      ],
      "metadata": {
        "id": "J3HlA9d792g1"
      }
    },
    {
      "cell_type": "code",
      "source": [
        "import pandas as pd\n",
        "import matplotlib.pyplot as plt\n",
        "import numpy as np\n",
        "from sklearn.cluster import KMeans\n",
        "from sklearn.tree import DecisionTreeClassifier, plot_tree, export_text\n",
        "from sklearn.preprocessing import LabelEncoder\n",
        "\n",
        "# === Data Buah Cucumis ===\n",
        "data = {\n",
        "    \"Panjang Buah (cm)\": [25, 28, 30, 27, 29, 20, 22, 21, 19, 23, 15, 14, 16, 15, 17],\n",
        "    \"Diameter Buah (cm)\": [15, 16, 17, 14, 16, 5, 6, 5.5, 4.5, 6, 8, 7.5, 8.5, 8, 9],\n",
        "    \"Kelas\": [\n",
        "        \"Cucumis melo\", \"Cucumis melo\", \"Cucumis melo\", \"Cucumis melo\", \"Cucumis melo\",\n",
        "        \"Cucumis sativus\", \"Cucumis sativus\", \"Cucumis sativus\", \"Cucumis sativus\", \"Cucumis sativus\",\n",
        "        \"Cucumis anguria\", \"Cucumis anguria\", \"Cucumis anguria\", \"Cucumis anguria\", \"Cucumis anguria\"\n",
        "    ]\n",
        "}\n",
        "df = pd.DataFrame(data)\n",
        "\n",
        "# === Label Encoding Kelas ===\n",
        "le = LabelEncoder()\n",
        "df['Label'] = le.fit_transform(df['Kelas'])\n",
        "\n",
        "# === Fitur Numerik ===\n",
        "X_numeric = df[[\"Panjang Buah (cm)\", \"Diameter Buah (cm)\"]]\n",
        "\n",
        "# === Diskritisasi dengan KMeans ===\n",
        "kmeans = KMeans(n_clusters=3, random_state=42)\n",
        "cluster_labels = kmeans.fit_predict(X_numeric)\n",
        "\n",
        "# Tambahkan fitur diskrit\n",
        "df[\"Cluster\"] = cluster_labels\n",
        "\n",
        "# === Model Decision Tree dengan Fitur Diskrit ===\n",
        "X_diskrit = df[[\"Cluster\"]]  # hanya fitur hasil diskritisasi\n",
        "y = df[\"Label\"]\n",
        "\n",
        "clf = DecisionTreeClassifier(criterion=\"gini\", max_depth=3, random_state=42)\n",
        "clf.fit(X_diskrit, y)\n",
        "\n",
        "# === Tampilkan Pohon Keputusan ===\n",
        "print(\"\\n=== Pohon Keputusan (Setelah Diskritisasi dengan KMeans) ===\")\n",
        "tree_rules = export_text(clf, feature_names=[\"Cluster\"])\n",
        "print(tree_rules)\n"
      ],
      "metadata": {
        "colab": {
          "base_uri": "https://localhost:8080/"
        },
        "id": "ADNAKhAe6Us4",
        "outputId": "3c50b4dc-0f29-4d56-be4b-076ed4530057"
      },
      "execution_count": 17,
      "outputs": [
        {
          "output_type": "stream",
          "name": "stdout",
          "text": [
            "\n",
            "=== Pohon Keputusan (Setelah Diskritisasi dengan KMeans) ===\n",
            "|--- Cluster <= 0.50\n",
            "|   |--- class: 0\n",
            "|--- Cluster >  0.50\n",
            "|   |--- class: 1\n",
            "\n"
          ]
        }
      ]
    },
    {
      "cell_type": "markdown",
      "source": [
        "# Visualisasi Splitting"
      ],
      "metadata": {
        "id": "eAHJSR8o-KXI"
      }
    },
    {
      "cell_type": "code",
      "source": [
        "import pandas as pd\n",
        "import matplotlib.pyplot as plt\n",
        "import numpy as np\n",
        "from sklearn.cluster import KMeans\n",
        "from sklearn.tree import DecisionTreeClassifier, plot_tree, export_text\n",
        "from sklearn.preprocessing import LabelEncoder\n",
        "\n",
        "# === Data Buah Cucumis ===\n",
        "data = {\n",
        "    \"Panjang Buah (cm)\": [25, 28, 30, 27, 29, 20, 22, 21, 19, 23, 15, 14, 16, 15, 17],\n",
        "    \"Diameter Buah (cm)\": [15, 16, 17, 14, 16, 5, 6, 5.5, 4.5, 6, 8, 7.5, 8.5, 8, 9],\n",
        "    \"Kelas\": [\n",
        "        \"Cucumis melo\", \"Cucumis melo\", \"Cucumis melo\", \"Cucumis melo\", \"Cucumis melo\",\n",
        "        \"Cucumis sativus\", \"Cucumis sativus\", \"Cucumis sativus\", \"Cucumis sativus\", \"Cucumis sativus\",\n",
        "        \"Cucumis anguria\", \"Cucumis anguria\", \"Cucumis anguria\", \"Cucumis anguria\", \"Cucumis anguria\"\n",
        "    ]\n",
        "}\n",
        "df = pd.DataFrame(data)\n",
        "\n",
        "# === Label Encoding Kelas ===\n",
        "le = LabelEncoder()\n",
        "df['Label'] = le.fit_transform(df['Kelas'])\n",
        "\n",
        "# === Fitur Numerik ===\n",
        "X_numeric = df[[\"Panjang Buah (cm)\", \"Diameter Buah (cm)\"]]\n",
        "\n",
        "# === Diskritisasi dengan KMeans ===\n",
        "kmeans = KMeans(n_clusters=3, random_state=42)\n",
        "cluster_labels = kmeans.fit_predict(X_numeric)\n",
        "\n",
        "# Tambahkan fitur diskrit\n",
        "df[\"Cluster\"] = cluster_labels\n",
        "\n",
        "# === Model Decision Tree dengan Fitur Diskrit ===\n",
        "X_diskrit = df[[\"Cluster\"]]  # hanya fitur hasil diskritisasi\n",
        "y = df[\"Label\"]\n",
        "\n",
        "clf = DecisionTreeClassifier(criterion=\"gini\", max_depth=3, random_state=42)\n",
        "clf.fit(X_diskrit, y)\n",
        "\n",
        "# === Tampilkan Text Rules ===\n",
        "print(\"\\n=== Pohon Keputusan (Setelah Diskritisasi dengan KMeans) ===\")\n",
        "tree_rules = export_text(clf, feature_names=[\"Cluster\"])\n",
        "print(tree_rules)\n",
        "\n",
        "# === Visualisasi Decision Tree ===\n",
        "plt.figure(figsize=(10, 5))\n",
        "plot_tree(clf,\n",
        "          feature_names=[\"Cluster\"],\n",
        "          class_names=le.classes_,\n",
        "          filled=True,\n",
        "          rounded=True)\n",
        "plt.title(\"Visualisasi Decision Tree Berdasarkan Cluster\")\n",
        "plt.tight_layout()\n",
        "plt.show()\n"
      ],
      "metadata": {
        "colab": {
          "base_uri": "https://localhost:8080/",
          "height": 628
        },
        "id": "mnJjqrWN-NL-",
        "outputId": "33f6b285-df8a-4aa2-b9da-eaaad8ca0540"
      },
      "execution_count": 22,
      "outputs": [
        {
          "output_type": "stream",
          "name": "stdout",
          "text": [
            "\n",
            "=== Pohon Keputusan (Setelah Diskritisasi dengan KMeans) ===\n",
            "|--- Cluster <= 0.50\n",
            "|   |--- class: 0\n",
            "|--- Cluster >  0.50\n",
            "|   |--- class: 1\n",
            "\n"
          ]
        },
        {
          "output_type": "display_data",
          "data": {
            "text/plain": [
              "<Figure size 1000x500 with 1 Axes>"
            ],
            "image/png": "[encoded data removed]"
          },
          "metadata": {}
        }
      ]
    },
    {
      "cell_type": "markdown",
      "source": [
        "# Deskritisasi Berdasarkan Kategori A–D"
      ],
      "metadata": {
        "id": "kdB0tRA8-8OP"
      }
    },
    {
      "cell_type": "code",
      "source": [
        "# Fungsi untuk mengklasifikasikan versi kode berdasarkan kategori A-D secara berurutan\n",
        "def klasifikasi_kode(versi=\"asli\"):\n",
        "    if versi == \"asli\":\n",
        "        return {\n",
        "            \"A. Tipe Data\": \"Numerik (Panjang, Diameter)\",\n",
        "            \"B. Jumlah Fitur\": \"2 fitur\",\n",
        "            \"C. Pra-pemrosesan\": \"LabelEncoder pada target (Kelas)\",\n",
        "            \"D. Kompleksitas Model\": \"Lebih kompleks, rawan overfitting\"\n",
        "        }\n",
        "    elif versi == \"diskrit\":\n",
        "        return {\n",
        "            \"A. Tipe Data\": \"Diskrit (Cluster hasil KMeans)\",\n",
        "            \"B. Jumlah Fitur\": \"1 fitur (Cluster)\",\n",
        "            \"C. Pra-pemrosesan\": \"LabelEncoder + KMeans Clustering\",\n",
        "            \"D. Kompleksitas Model\": \"Lebih sederhana, rawan underfitting\"\n",
        "        }\n",
        "    else:\n",
        "        return \"Versi tidak dikenali\"\n",
        "\n",
        "# Cetak hasil kategori secara vertikal\n",
        "def tampilkan_klasifikasi(versi_nama, versi_kode):\n",
        "    print(f\"\\n=== {versi_nama} ===\")\n",
        "    hasil = klasifikasi_kode(versi_kode)\n",
        "    if isinstance(hasil, dict):\n",
        "        for kategori, penjelasan in hasil.items():\n",
        "            print(f\"{kategori}: {penjelasan}\")\n",
        "    else:\n",
        "        print(hasil)\n",
        "\n",
        "# Contoh penggunaan:\n",
        "tampilkan_klasifikasi(\"Kode Asli (Numerik)\", \"asli\")\n",
        "tampilkan_klasifikasi(\"Kode Diskrit (KMeans)\", \"diskrit\")\n"
      ],
      "metadata": {
        "colab": {
          "base_uri": "https://localhost:8080/"
        },
        "id": "JZKPphaO7mlG",
        "outputId": "1933732b-bc99-45e0-a8fa-de0d1ba0176b"
      },
      "execution_count": 21,
      "outputs": [
        {
          "output_type": "stream",
          "name": "stdout",
          "text": [
            "\n",
            "=== Kode Asli (Numerik) ===\n",
            "A. Tipe Data: Numerik (Panjang, Diameter)\n",
            "B. Jumlah Fitur: 2 fitur\n",
            "C. Pra-pemrosesan: LabelEncoder pada target (Kelas)\n",
            "D. Kompleksitas Model: Lebih kompleks, rawan overfitting\n",
            "\n",
            "=== Kode Diskrit (KMeans) ===\n",
            "A. Tipe Data: Diskrit (Cluster hasil KMeans)\n",
            "B. Jumlah Fitur: 1 fitur (Cluster)\n",
            "C. Pra-pemrosesan: LabelEncoder + KMeans Clustering\n",
            "D. Kompleksitas Model: Lebih sederhana, rawan underfitting\n"
          ]
        }
      ]
    }
  ]
}